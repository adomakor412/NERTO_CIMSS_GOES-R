{
 "cells": [
  {
   "cell_type": "markdown",
   "metadata": {},
   "source": [
    "# Import libraries"
   ]
  },
  {
   "cell_type": "code",
   "execution_count": 1,
   "metadata": {},
   "outputs": [
    {
     "name": "stderr",
     "output_type": "stream",
     "text": [
      "/scratch/adomakor412/conda/envs/MyEnv/lib/python3.6/site-packages/dask/config.py:131: YAMLLoadWarning: calling yaml.load() without Loader=... is deprecated, as the default Loader is unsafe. Please read https://msg.pyyaml.org/load for full details.\n",
      "  data = yaml.load(f.read()) or {}\n"
     ]
    }
   ],
   "source": [
    "import numpy as np\n",
    "import itertools\n",
    "import pandas as pd\n",
    "npPath = '/sharedData2/scratch/fall_npy/'\n",
    "ncPath = '/sharedData/scratch/'\n",
    "acmPath = '/sharedData/scratch/all_npy3/'\n",
    "DATAPATH = '/goesdata'\n",
    "import re\n",
    "import os\n",
    "from os import path as op\n",
    "import matplotlib.pyplot as plt\n",
    "\n",
    "import xarray as xr\n",
    "import netCDF4\n",
    "from pathlib import Path\n",
    "\n",
    "#refactor to create folders using subprocess library\n",
    "#from subprocess import\n",
    "\n",
    "import matplotlib.dates as mdates\n",
    "%matplotlib inline\n",
    "\n",
    "from datetime import datetime\n"
   ]
  },
  {
   "cell_type": "code",
   "execution_count": 2,
   "metadata": {},
   "outputs": [],
   "source": [
    "def getTmean(SS, npPath, band, day):\n",
    "   \n",
    "    ncList = os.listdir( ncPath )\n",
    "    npList = os.listdir( npPath )\n",
    "    \n",
    "    look = 'M6C'+ band + '_G' + SS + '_s2019' + day\n",
    "    acmLook = 'M6_G' + SS + '_s2019' + day\n",
    "    \n",
    "    ncFiles = sorted([f for f in ncList if re.search(look,f)])\n",
    "    npFiles = sorted([f for f in npList if re.search(look,f)])\n",
    "    \n",
    "    plot = createUnfilteredPlotArray(ncFiles,npFiles,npPath)\n",
    "    return plot"
   ]
  },
  {
   "cell_type": "code",
   "execution_count": 3,
   "metadata": {},
   "outputs": [],
   "source": [
    "def getFilteredTmean(SS, npPath, band, day):\n",
    "   \n",
    "    ncList = os.listdir( ncPath )\n",
    "    npList = os.listdir( npPath )\n",
    "    acmList = os.listdir( acmPath )\n",
    "    \n",
    "    look = 'M6C'+ band + '_G' + SS + '_s2019' + day\n",
    "    acmLook = 'M6_G' + SS + '_s2019' + day\n",
    "    \n",
    "    ncFiles = sorted([f for f in ncList if re.search(look,f)])\n",
    "    npFiles = sorted([f for f in npList if re.search(look,f)])\n",
    "    acmFiles = sorted([f for f in acmList if re.search(acmLook,f)])\n",
    "    plot = createFilteredPlotArray(ncFiles,npFiles,npPath,acmFiles)\n",
    "    return plot\n"
   ]
  },
  {
   "cell_type": "code",
   "execution_count": 4,
   "metadata": {},
   "outputs": [],
   "source": [
    "def Rad2BT(rad, planck_fk1, planck_fk2, planck_bc1, planck_bc2):\n",
    "    \"\"\"Radiances to Brightness Temprature (using black body equation)\"\"\"\n",
    "    invRad = np.array(rad)**(-1)\n",
    "    arg = (invRad*planck_fk1) + 1.0\n",
    "    T = (- planck_bc1+(planck_fk2 * (np.log(arg)**(-1))) )*(1/planck_bc2) \n",
    "    return T"
   ]
  },
  {
   "cell_type": "code",
   "execution_count": 5,
   "metadata": {},
   "outputs": [],
   "source": [
    "def createFilteredPlotArray(ncFiles,npFiles,npPath,acmFiles):#Filtered Histrogram for cloud clear sky mask\n",
    "    Tmean= []\n",
    "    times = []\n",
    "    for ncf, npf, acm in zip(ncFiles, npFiles, acmFiles):\n",
    "        imageBox = np.load(op.join(npPath,npf))\n",
    "        acmBox = np.load(op.join(acmPath,acm))\n",
    "        myFile = xr.open_dataset(op.join(ncPath,ncf))\n",
    "        planck_fk1 = float(myFile['planck_fk1'].data)\n",
    "        planck_fk2 = float(myFile['planck_fk2'].data) \n",
    "        planck_bc1 = float(myFile['planck_bc1'].data)                       \n",
    "        planck_bc2 = float(myFile['planck_bc2'].data)     \n",
    "        T = Rad2BT(imageBox[acmBox==1].mean(), planck_fk1, planck_fk2, planck_bc1, planck_bc2)\n",
    "        tString = ncf[34:38]\n",
    "        times.append(tString)\n",
    "        Tmean.append(T)\n",
    "    return times, Tmean\n",
    "    "
   ]
  },
  {
   "cell_type": "code",
   "execution_count": 6,
   "metadata": {},
   "outputs": [],
   "source": [
    "def createUnfilteredPlotArray(ncFiles,npFiles,npPath):#Filtered Histrogram for cloud clear sky mask\n",
    "    Tmean= []\n",
    "    times = []\n",
    "    for ncf, npf in zip(ncFiles, npFiles):\n",
    "        imageBox = np.load(op.join(npPath,npf))\n",
    "        myFile = xr.open_dataset(op.join(ncPath,ncf))\n",
    "        planck_fk1 = float(myFile['planck_fk1'].data)\n",
    "        planck_fk2 = float(myFile['planck_fk2'].data) \n",
    "        planck_bc1 = float(myFile['planck_bc1'].data)                       \n",
    "        planck_bc2 = float(myFile['planck_bc2'].data)     \n",
    "        T = Rad2BT(imageBox.mean(), planck_fk1, planck_fk2, planck_bc1, planck_bc2)\n",
    "        tString = ncf[31:38]\n",
    "        times.append(tString)\n",
    "        Tmean.append(T)\n",
    "    return times, Tmean\n",
    "\n",
    "\n"
   ]
  },
  {
   "cell_type": "code",
   "execution_count": 7,
   "metadata": {},
   "outputs": [],
   "source": [
    "def getUnfilteredTmean(SS, ncPath, npPath, band, day):\n",
    "   \n",
    "    ncList = os.listdir( ncPath )\n",
    "    npList = os.listdir( npPath )\n",
    "    \n",
    "    look = 'M6C'+ band + '_G' + SS + '_s2019' + day\n",
    "    \n",
    "    ncFiles = sorted([f for f in ncList if re.search(look,f)])\n",
    "    npFiles = sorted([f for f in npList if re.search(look,f)])\n",
    "    plot = createUnfilteredPlotArray(ncFiles,npFiles,npPath)\n",
    "    return plot"
   ]
  },
  {
   "cell_type": "markdown",
   "metadata": {},
   "source": [
    "# Plots for April 8 through 18."
   ]
  },
  {
   "cell_type": "code",
   "execution_count": null,
   "metadata": {},
   "outputs": [],
   "source": [
    "for i in [8]:\n",
    "    for j in range(11):\n",
    "        band = str(i).zfill(2)\n",
    "        date = 98 + j\n",
    "        day = str(date).zfill(3)\n",
    "        \n",
    "        times17, mean17 = getTmean('17', npPath, band, day)\n",
    "        times16, mean16 = getTmean('16', npPath, band, day)\n",
    "    \n",
    "        ptimes17 = [datetime.strptime(f\"2019{day}{t}\", \"%Y%j%H%M\") for t in times17]\n",
    "        ptimes16 = [datetime.strptime(f\"2019{day}{t}\", \"%Y%j%H%M\") for t in times16]\n",
    "        fig, ax1 = plt.subplots(figsize=(15,5))#constrained_layout=False\n",
    "        _ = ax1.plot_date(ptimes17, mean17 , label=\"GOES-17\", color='tab:red', marker='+', markersize = 16)\n",
    "        _ = ax1.plot_date(ptimes16, mean16 , label='GOES-16', color='tab:blue', marker='+', markersize = 16, zorder=-1)\n",
    "        _ = ax1.set_ylim(220,260)\n",
    "        _ = ax1.tick_params('both', labelsize=18)\n",
    "        _ = ax1.legend()\n",
    "        _ = ax1.set_title(f'Filtered Clear Sky \\n Mean Temperatures (K) for a 401 x 1001 Portion\\n of Band 08 on 04-{str(8+j)}-2019', fontweight ='bold', fontsize = 22)\n",
    "        _ = ax1.set_ylabel('Temperature (K)',fontsize = 16)\n",
    "        _ = ax1.set_xlabel('time (hours)',fontsize = 16)\n",
    "        _ = ax1.xaxis.set_major_formatter(mdates.DateFormatter('%H:%M'))\n",
    "        \n",
    "        \n",
    "        _ = plt.savefig('..'+ op.join(DATAPATH,f\"Mean_temp_filtered/04-{str(8+j).zfill(2)}-2019\"))\n",
    "        "
   ]
  },
  {
   "cell_type": "code",
   "execution_count": 12,
   "metadata": {},
   "outputs": [],
   "source": [
    "def getTmean2(SS, npPath, band, day):\n",
    "   \n",
    "    ncList = os.listdir( ncPath )\n",
    "    npList = os.listdir( npPath )\n",
    "    \n",
    "    look = 'M6C'+ band + '_G' + SS + '_s2019' + day\n",
    "    acmLook = 'M6_G' + SS + '_s2019' + day\n",
    "    \n",
    "    ncFiles = sorted([f for f in ncList if re.search(look,f)])\n",
    "    npFiles = sorted([f for f in npList if re.search(look,f)])\n",
    "    \n",
    "    plot = createUnfilteredPlotArray(ncFiles,npFiles,npPath)\n",
    "    return plot"
   ]
  },
  {
   "cell_type": "code",
   "execution_count": null,
   "metadata": {},
   "outputs": [],
   "source": [
    "for i in [8]:\n",
    "    for j in range(221,230):\n",
    "        band = str(i).zfill(2)\n",
    "        day = str(j).zfill(3)\n",
    "        #OR_ABI-L1b-RadF-M6C{bb}_G{SS}_s2019{day}\n",
    "        times17, mean17 = getTmean2('17', npPath, band, day)\n",
    "        times16, mean16 = getTmean2('16', npPath, band, day)\n",
    "    \n",
    "        ptimes17 = [datetime.strptime(f\"2019{day}{t}\", \"%Y%j%H%M\") for t in times17]\n",
    "        ptimes16 = [datetime.strptime(f\"2019{day}{t}\", \"%Y%j%H%M\") for t in times16]\n",
    "        fig, ax1 = plt.subplots(figsize=(15,5))#constrained_layout=False\n",
    "        _ = ax1.plot_date(ptimes17, mean17 , label=\"GOES-17\", color='tab:red', \n",
    "                          marker='+', markersize = 16)\n",
    "        _ = ax1.plot_date(ptimes16, mean16 , label='GOES-16', color='tab:blue', \n",
    "                          marker='+', markersize = 16, zorder=-1)\n",
    "        _ = ax1.set_ylim(220,260)\n",
    "        _ = ax1.tick_params('both', labelsize=18)\n",
    "        _ = ax1.legend()\n",
    "        _ = ax1.set_title(f'Mean Temperatures (K) for a 401 x 1001 Portion\\n of Band 08 on 08-{str(9-221+j)}-2019', \n",
    "                          fontweight ='bold', fontsize = 22)\n",
    "        _ = ax1.set_ylabel('Temperature (K)',fontsize = 16)\n",
    "        _ = ax1.set_xlabel('time (hours)',fontsize = 16)\n",
    "        _ = ax1.xaxis.set_major_formatter(mdates.DateFormatter('%H:%M'))\n",
    "        \n",
    "        a = f\"goes17_17means_minus_16means_versus_FPMTemps_2019{day}_\"\n",
    "        b = f\"fd_band{band}_medium_\"\n",
    "        c = f\"GOES17_FPMTemp_GOES16vsGOES17MeanDiff_FD_2019{day}_Band{band}.png\"\n",
    "        \n",
    "        directory = a+b+c\n",
    "        \n",
    "        _ = plt.savefig('..'+ op.join('/goesdata/Fall_Plot',directory))\n",
    "        "
   ]
  }
 ],
 "metadata": {
  "kernelspec": {
   "display_name": "Python 3",
   "language": "python",
   "name": "python3"
  },
  "language_info": {
   "codemirror_mode": {
    "name": "ipython",
    "version": 3
   },
   "file_extension": ".py",
   "mimetype": "text/x-python",
   "name": "python",
   "nbconvert_exporter": "python",
   "pygments_lexer": "ipython3",
   "version": "3.9.1"
  }
 },
 "nbformat": 4,
 "nbformat_minor": 2
}
