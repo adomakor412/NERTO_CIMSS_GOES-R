{
 "cells": [
  {
   "cell_type": "code",
   "execution_count": 1,
   "metadata": {},
   "outputs": [
    {
     "name": "stderr",
     "output_type": "stream",
     "text": [
      "/scratch/adomakor412/conda/envs/MyEnv/lib/python3.6/site-packages/dask/config.py:131: YAMLLoadWarning: calling yaml.load() without Loader=... is deprecated, as the default Loader is unsafe. Please read https://msg.pyyaml.org/load for full details.\n",
      "  data = yaml.load(f.read()) or {}\n"
     ]
    }
   ],
   "source": [
    "import numpy as np\n",
    "import itertools\n",
    "import pandas as pd\n",
    "npPath = '/sharedData2/scratch/fall_npy/'\n",
    "ncPath = '/sharedData/scratch/'\n",
    "acmPath = '/sharedData/scratch/all_npy3/'\n",
    "DATAPATH = '/goesdata'\n",
    "import re\n",
    "import os\n",
    "from os import path as op\n",
    "import matplotlib.pyplot as plt\n",
    "\n",
    "import xarray as xr\n",
    "import netCDF4\n",
    "from pathlib import Path\n",
    "\n",
    "#refactor to create folders using subprocess library\n",
    "#from subprocess import\n",
    "\n",
    "import matplotlib.dates as mdates\n",
    "%matplotlib inline\n",
    "\n",
    "from datetime import datetime\n"
   ]
  },
  {
   "cell_type": "code",
   "execution_count": 2,
   "metadata": {},
   "outputs": [],
   "source": [
    "def Rad2BT(rad, planck_fk1, planck_fk2, planck_bc1, planck_bc2):\n",
    "    \"\"\"Radiances to Brightness Temprature (using black body equation)\"\"\"\n",
    "    invRad = np.array(rad)**(-1)\n",
    "    arg = (invRad*planck_fk1) + 1.0\n",
    "    T = (- planck_bc1+(planck_fk2 * (np.log(arg)**(-1))) )*(1/planck_bc2) \n",
    "    return T"
   ]
  },
  {
   "cell_type": "markdown",
   "metadata": {},
   "source": [
    "# April Data"
   ]
  },
  {
   "cell_type": "code",
   "execution_count": null,
   "metadata": {},
   "outputs": [],
   "source": [
    "Tmean = []\n",
    "times = []\n",
    "toi = ['0300','0910','1010','1350','1510','2100']\n",
    "for (bb,dd) in list(itertools.product([8],range(11))):\n",
    "    for SS in ['16','17']:\n",
    "        bins = np.linspace(220,250,101)\n",
    "        fig, axes = plt.subplots(ncols=6, nrows =1, figsize=(15, 5), constrained_layout=True, sharey = True, sharex = True)\n",
    "        fig.suptitle(f'GOES-{SS} ABI Band {bb} {8+dd}-Apr-2019', fontsize = 22, fontweight = 'bold')\n",
    "        BB = str(bb).zfill(2)\n",
    "        DD = str(98+dd).zfill(3)\n",
    "        lookup = f'M6C{BB}_G{SS}_s2019{DD}'\n",
    "        ncFiles = [f for f in os.listdir(ncPath) if re.search(lookup,f)]\n",
    "        npFiles = [f for f in os.listdir(npPath) if re.search(lookup,f)]\n",
    "\n",
    "        for ncf, npf in zip(ncFiles,npFiles):\n",
    "            imageBox = np.load(op.join(npPath,npf))\n",
    "            myFile = xr.open_dataset(op.join(ncPath,ncf))\n",
    "            planck_fk1 = float(myFile['planck_fk1'].data)\n",
    "            planck_fk2 = float(myFile['planck_fk2'].data) \n",
    "            planck_bc1 = float(myFile['planck_bc1'].data)                       \n",
    "            planck_bc2 = float(myFile['planck_bc2'].data)     \n",
    "            T = Rad2BT(imageBox.mean(), planck_fk1, planck_fk2, planck_bc1, planck_bc2)#unfilterd\n",
    "            tString = ncf[34:38]\n",
    "            times.append(tString)\n",
    "            Tmean.append(T)\n",
    "\n",
    "            if tString in toi:\n",
    "                ax = axes[toi.index(tString)]\n",
    "                hh = tString[:2]\n",
    "                mm = tString[2:4]\n",
    "                ax.set_title(f'{hh}:{mm}')\n",
    "                ax.set_ylabel('density (unitless)',fontsize = 16)\n",
    "                ax.set_xlabel('Temperature (K)', fontsize = 16)\n",
    "\n",
    "                Tbox = Rad2BT(imageBox, planck_fk1, planck_fk2, planck_bc1, planck_bc2)\n",
    "                ax.hist(Tbox.ravel(), bins = bins, density = True, label = 'Temp dist.')\n",
    "                #ax.plot([T,T], [0,0.3],'r', label = 'something')\n",
    "                ax.axvline(T, color='r',label = 'NOAA avg.')\n",
    "            axes[0].legend(loc='upper left')\n",
    "        fig.savefig('..'+ op.join(DATAPATH,f\"Histograms_unfiltered/G_{SS}_band{BB}_04-{str(8+dd).zfill(2)}-2019\"))"
   ]
  }
 ],
 "metadata": {
  "kernelspec": {
   "display_name": "Python 3",
   "language": "python",
   "name": "python3"
  },
  "language_info": {
   "codemirror_mode": {
    "name": "ipython",
    "version": 3
   },
   "file_extension": ".py",
   "mimetype": "text/x-python",
   "name": "python",
   "nbconvert_exporter": "python",
   "pygments_lexer": "ipython3",
   "version": "3.6.12"
  }
 },
 "nbformat": 4,
 "nbformat_minor": 4
}
