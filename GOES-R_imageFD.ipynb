{
 "cells": [
  {
   "cell_type": "markdown",
   "id": "running-harvest",
   "metadata": {},
   "source": [
    "# Generate Full Disk images of GOES-R NetCDF files and upload them to GitLab database."
   ]
  },
  {
   "cell_type": "markdown",
   "id": "organizational-replication",
   "metadata": {},
   "source": [
    "https://gitlab.com/adomakor412/goes-r_fd_image"
   ]
  },
  {
   "cell_type": "code",
   "execution_count": 1,
   "id": "thrown-destiny",
   "metadata": {},
   "outputs": [
    {
     "name": "stderr",
     "output_type": "stream",
     "text": [
      "/home/radomako/.conda/envs/adomako/lib/python3.9/site-packages/pyresample/bilinear/__init__.py:50: UserWarning: XArray and/or zarr not found, XArrayBilinearResampler won't be available.\n",
      "  warnings.warn(\"XArray and/or zarr not found, XArrayBilinearResampler won't be available.\")\n"
     ]
    }
   ],
   "source": [
    "import sys\n",
    "from netCDF4 import Dataset\n",
    "from datetime import datetime, timedelta\n",
    "import numpy as np\n",
    "import matplotlib.pyplot as plt\n",
    "#Generates blank plots when saving unless called in same cell\n",
    "#%matplotlib inline\n",
    "from mpl_toolkits.basemap import Basemap\n",
    "from pathlib import Path\n",
    "from subprocess import Popen\n",
    "import itertools\n",
    "\n",
    "from pyproj import Proj\n",
    "import pyproj\n",
    "import xarray as xr\n",
    "import matplotlib.pyplot as plt\n",
    "import cartopy\n",
    "import cartopy.crs as ccrs\n",
    "import cartopy.feature as cfeature\n",
    "from pyresample import image, geometry\n",
    "import metpy\n",
    "import seaborn as sns\n",
    "sns.set(style=\"darkgrid\")\n",
    "import pandas as pd\n",
    "import statsmodels.api as sm\n",
    "import os\n",
    "import os.path as op\n",
    "from glob import glob\n",
    "from convertdate import gregorian, ordinal\n",
    "from multiprocessing import Pool\n",
    "\n",
    "import warnings\n",
    "#warnings.filterwarnings('ignore')\n",
    "\n",
    "import logging\n",
    "logger = logging.getLogger()"
   ]
  },
  {
   "cell_type": "markdown",
   "id": "chief-intent",
   "metadata": {},
   "source": [
    "## Paths"
   ]
  },
  {
   "cell_type": "code",
   "execution_count": 2,
   "id": "whole-extent",
   "metadata": {},
   "outputs": [],
   "source": [
    "storage = '/scratch/radomako/goes-r_fd_image/'\n",
    "fullDisk = '/arcdata/goes/grb/goes'"
   ]
  },
  {
   "cell_type": "markdown",
   "id": "verified-financing",
   "metadata": {},
   "source": [
    "## Functions for unfiltered cloud mask"
   ]
  },
  {
   "cell_type": "code",
   "execution_count": 3,
   "id": "choice-guyana",
   "metadata": {},
   "outputs": [],
   "source": [
    "def Rad2BT(rad, planck_fk1, planck_fk2, planck_bc1, planck_bc2):\n",
    "    \"\"\"Radiances to Brightness Temprature (using black body equation)\"\"\"\n",
    "    \n",
    "    planck_fk1 = abs(planck_fk1)\n",
    "    planck_fk2 = abs(planck_fk2)\n",
    "    planck_bc1 = abs(planck_bc1)\n",
    "    planck_bc2 = abs(planck_bc2)\n",
    "    \n",
    "    invRad = np.array(abs(rad))**(-1)\n",
    "    arg = (invRad*planck_fk1) + 1.0\n",
    "    T = (- planck_bc1+(planck_fk2 * (np.log(arg)**(-1))) )*(1/planck_bc2)\n",
    "    return T\n",
    "\n",
    "# def download(url,toPath, saveName):\n",
    "#     cmd = [ 'wget ' + url +' -P ' + toPath +' -O '+ saveName]#if re.search('C07',url)\n",
    "#     #print(cmd)\n",
    "#     pid = Popen(cmd, shell=True)\n",
    "#     pid.communicate()\n",
    "#     return"
   ]
  },
  {
   "cell_type": "markdown",
   "id": "corrected-charleston",
   "metadata": {},
   "source": [
    "## Load data"
   ]
  },
  {
   "cell_type": "code",
   "execution_count": 4,
   "id": "prescribed-banks",
   "metadata": {},
   "outputs": [],
   "source": [
    "Sat = [16,17]\n",
    "#band = range(7,17)\n",
    "year = [2021]\n",
    "month = list(range(1,2))#list(range(1,3))\n",
    "day = list(range(1,2))#list(range(1,32))\n",
    "hour = list(range(24))"
   ]
  },
  {
   "cell_type": "code",
   "execution_count": 5,
   "id": "weird-virginia",
   "metadata": {},
   "outputs": [],
   "source": [
    "search = list(itertools.product(Sat,\\\n",
    "        #band,\\\n",
    "        year,\\\n",
    "        month,\\\n",
    "        day,\\\n",
    "        hour))"
   ]
  },
  {
   "cell_type": "markdown",
   "id": "supposed-witness",
   "metadata": {},
   "source": [
    "## Execution"
   ]
  },
  {
   "cell_type": "code",
   "execution_count": 6,
   "id": "stupid-migration",
   "metadata": {
    "scrolled": true
   },
   "outputs": [],
   "source": [
    "def execute(searchBandTuple):\n",
    "    chunk, band = searchBandTuple\n",
    "    filelog = open('log_FD_image.txt','w')\n",
    "    #for SS, bb, yyyy, mm, dd, hr in chunk:\n",
    "    #SS, bb, yyyy, mm, dd, hr = chunk\n",
    "    SS, yyyy, mm, dd, hr = chunk\n",
    "    bb = band\n",
    "    SS, bb, yyyy, mm, dd, hr = \\\n",
    "        str(SS).zfill(2),\\\n",
    "        str(bb).zfill(2),\\\n",
    "        str(yyyy).zfill(4),\\\n",
    "        str(mm).zfill(2),\\\n",
    "        str(dd).zfill(2),\\\n",
    "        str(hr).zfill(2)\n",
    "\n",
    "    calDate = gregorian.date(int(yyyy), int(mm), int(dd))\n",
    "    DDD = ordinal.from_gregorian(calDate.year, calDate.month, calDate.day)[1]\n",
    "    DDD = str(DDD).zfill(3)\n",
    "\n",
    "    '''Create Directories'''\n",
    "    cond2 = os.path.exists(f'{storage}/{yyyy}')\n",
    "    cond3 = os.path.exists(f'{storage}/{yyyy}/{DDD}')\n",
    "    #cond4 = os.path.exists(f'{storage}/{yyyy}/{DDD}/{bb}')\n",
    "\n",
    "    if not cond2:\n",
    "        #KEEP CONDITION AS A DYNAMIC F-STRING OTHERWISE VARIABLE IS STATIC, utilize loop\n",
    "        #make di\n",
    "            #Create Directoriesrectory per year\n",
    "        cmd = [f'mkdir {storage}/{yyyy}']\n",
    "        pid = Popen(cmd, shell=True) \n",
    "        pid.communicate()\n",
    "\n",
    "    if not cond3:\n",
    "        #KEEP CONDITION AS A DYNAMIC F-STRING OTHERWISE VARIABLE IS STATIC, utilize loop\n",
    "        #make directory per year\n",
    "        cmd = [f'mkdir {storage}/{yyyy}/{DDD}']\n",
    "        pid = Popen(cmd, shell=True) \n",
    "        pid.communicate()\n",
    "        \n",
    "#     if not cond4:\n",
    "#         #KEEP CONDITION AS A DYNAMIC F-STRING OTHERWISE VARIABLE IS STATIC, utilize loop\n",
    "#         #make directory per year\n",
    "#         cmd = [f'mkdir {storage}/{yyyy}/{DDD}/{bb}']\n",
    "#         pid = Popen(cmd, shell=True) \n",
    "#         pid.communicate()\n",
    "\n",
    "    try:\n",
    "        #Not a cd command, use absolute path\n",
    "        #netcdf = glob.glob(f'~/arcdata/goes/grb/goes{SS}/{yyyy}/{yyyy}_{mm}_{dd}_{DDD}/abi/L1b/RadF/')\n",
    "        netcdf = glob(f'{fullDisk}'+f'{SS}/{yyyy}/{yyyy}_{mm}_{dd}_{DDD}/abi/L1b/RadF/*.nc')\n",
    "            \n",
    "        print(netcdf, file=filelog)\n",
    "\n",
    "        for file in netcdf:\n",
    "#             if len(netcdf)==0:\n",
    "#                 print('\\n NO SOURCE DATA \\n', file=filelog)\n",
    "#                 continue\n",
    "            #print(file)\n",
    "            i = file.find('_s')#+2\n",
    "            HH = file[i+9: i+11]\n",
    "            MM = file[i+11: i+13]\n",
    "            ss = file[i+13: i+15]\n",
    "            \n",
    "#             naming = f'{yyyy}/{DDD}/{bb}/FD_goes{SS}_B{bb}_{yyyy}-{mm}-{dd}_{DDD}_{HH}{MM}{ss}'\\\n",
    "#                 + 'UTC_5424x5424_plain.png'\n",
    "            \n",
    "            naming = f'{yyyy}/{DDD}/FD_goes{SS}_B{bb}_{yyyy}-{mm}-{dd}_{DDD}_{HH}{MM}{ss}'\\\n",
    "                + 'UTC_224x224_BW.jpg'\n",
    "    \n",
    "            #cond5 = os.path.exists(f'{storage}/{yyyy}/{DDD}/{bb}/{naming}')\n",
    "            cond5 = os.path.exists(f'{storage}/{yyyy}/{DDD}/{naming}')\n",
    "            \n",
    "            if cond5:\n",
    "                continue\n",
    "            '''\n",
    "            https://www.infobyip.com/detectmonitordpi.php\n",
    "            stackoverflow.com/questions/13714454/specifying-and-saving-a-figure-with-exact-size-in-pixels\n",
    "            '''\n",
    "            \n",
    "            my_dpi = 192#96#\n",
    "            #resolution = 5424\n",
    "            downsize_x = 224\n",
    "            downsize_y = 224\n",
    "\n",
    "            GOES_R = xr.open_dataset(file)\n",
    "            GOES_image = GOES_R['Rad']\n",
    "\n",
    "            planck_fk1 = float(GOES_R['planck_fk1'].data)\n",
    "            planck_fk2 = float(GOES_R['planck_fk2'].data) \n",
    "            planck_bc1 = float(GOES_R['planck_bc1'].data)                       \n",
    "            planck_bc2 = float(GOES_R['planck_bc2'].data)\n",
    "            '''\n",
    "            Need not convert projection: using full image, no pyproj interpolation of region of interest\n",
    "            '''\n",
    "            \n",
    "            Kelvin_GOES = Rad2BT(GOES_image, \\\n",
    "                                 planck_fk1, \\\n",
    "                                 planck_fk2, \\\n",
    "                                 planck_bc1, \\\n",
    "                                 planck_bc2)\n",
    "            \n",
    "            '''Call pixelage before rendering'''\n",
    "            plt.figure(figsize=(downsize_x/my_dpi, downsize_y/my_dpi), dpi=my_dpi)\n",
    "            \n",
    "            plt.grid(None)\n",
    "            plt.axis('off')\n",
    "#             title = f'Brightness Temperature in Kelvin \\n Full Disk GOES-{SS} Image Band{bb}'\n",
    "#             ttl = plt.title(f\"{title}\\n Date {mm}-{dd}, Year {yyyy}, \\n Day {DDD}, Time {HH}:{MM}:{ss}\",\\\n",
    "#                        fontsize=\"x-large\", fontweight='bold', pad = 6.0)\n",
    "#             ttl.set_position([.5, 1.05])\n",
    "            fig1=plt.imshow(Kelvin_GOES, cmap='gray',vmin=180,vmax=300)\n",
    "            arr = fig1.get_array()\n",
    "#             cbar = plt.colorbar()\n",
    "#             cbar.ax.set_ylabel('Kelvin')\n",
    "            \n",
    "            if not os.path.isfile(op.join(storage,naming)):\n",
    "                plt.grid(None)\n",
    "                fig1.figure.savefig(op.join(savePath,naming))\n",
    "                #plt.imsave( op.join(storage,naming), arr = arr)\n",
    "            naming = f'{yyyy}/{DDD}/' + \\\n",
    "                f'FD_goes{SS}_B{bb}_{yyyy}-{mm}-{dd}_{DDD}_{HH}{MM}{ss}UTC_224x224.jpg'  \n",
    "#             cbar.remove()    \n",
    "#             title = f'Brightness Temperature in Kelvin \\n Full Disk GOES-{SS} Image Band{bb}'\n",
    "#             ttl = plt.title(f\"{title}\\n Date {mm}-{dd}, Year {yyyy}, \\n Day {DDD}, Time {HH}:{MM}:{ss}\",\\\n",
    "#                        fontsize=\"x-large\", fontweight='bold', pad = 6.0)\n",
    "#             ttl.set_position([.5, 1.05])\n",
    "            fig1 = plt.imshow(Kelvin_GOES, vmin=180, vmax=300, cmap='plasma')\n",
    "            arr = fig1.get_array()\n",
    "#             cbar = plt.colorbar()\n",
    "#             cbar.ax.set_ylabel('Kelvin')\n",
    "            plt.grid(None) \n",
    "            plt.axis('off')\n",
    "\n",
    "#             naming = f'{yyyy}/{DDD}/{bb}/' + \\\n",
    "#                 f'FD_goes{SS}_B{bb}_{yyyy}-{mm}-{dd}_{DDD}_{HH}{MM}{ss}UTC_5424x5424.png'\n",
    "                \n",
    "            if not os.path.isfile(op.join(storage,naming)):\n",
    "                #plt.imsave(op.join(storage,naming), arr = arr)\n",
    "                fig1.figure.savefig(op.join(savePath,naming))\n",
    "            plt.close('all')\n",
    "            GOES_R.close()\n",
    "\n",
    "    except ValueError as e:\n",
    "        print('THERE IS AN ERROR')\n",
    "        print('\\n', file = filelog)\n",
    "        print(file, file = filelog)\n",
    "        print(e, file = filelog)\n",
    "        print('\\n', file = filelog)\n",
    "\n",
    "    filelog.close()\n",
    "    return"
   ]
  },
  {
   "cell_type": "markdown",
   "id": "julian-module",
   "metadata": {},
   "source": [
    "#### This multiprocessing may generate warning of too many plots open before closing them all"
   ]
  },
  {
   "cell_type": "code",
   "execution_count": 7,
   "id": "brief-guyana",
   "metadata": {},
   "outputs": [
    {
     "name": "stderr",
     "output_type": "stream",
     "text": [
      "<__array_function__ internals>:5: UserWarning: Warning: converting a masked element to nan.\n",
      "/home/radomako/.conda/envs/adomako/lib/python3.9/site-packages/numpy/core/_asarray.py:102: UserWarning: Warning: converting a masked element to nan.\n",
      "  return array(a, dtype, copy=False, order=order)\n",
      "<__array_function__ internals>:5: UserWarning: Warning: converting a masked element to nan.\n",
      "/home/radomako/.conda/envs/adomako/lib/python3.9/site-packages/numpy/core/_asarray.py:102: UserWarning: Warning: converting a masked element to nan.\n",
      "  return array(a, dtype, copy=False, order=order)\n",
      "<__array_function__ internals>:5: UserWarning: Warning: converting a masked element to nan.\n",
      "/home/radomako/.conda/envs/adomako/lib/python3.9/site-packages/numpy/core/_asarray.py:102: UserWarning: Warning: converting a masked element to nan.\n",
      "  return array(a, dtype, copy=False, order=order)\n"
     ]
    },
    {
     "ename": "KeyboardInterrupt",
     "evalue": "",
     "output_type": "error",
     "traceback": [
      "\u001b[0;31m---------------------------------------------------------------------------\u001b[0m",
      "\u001b[0;31mKeyboardInterrupt\u001b[0m                         Traceback (most recent call last)",
      "\u001b[0;32m<ipython-input-7-0b4cbc6c1edc>\u001b[0m in \u001b[0;36m<module>\u001b[0;34m\u001b[0m\n\u001b[1;32m      6\u001b[0m     \u001b[0;31m#pool.map(execute, search, chunksize=None)\u001b[0m\u001b[0;34m\u001b[0m\u001b[0;34m\u001b[0m\u001b[0;34m\u001b[0m\u001b[0m\n\u001b[1;32m      7\u001b[0m     \u001b[0margs\u001b[0m \u001b[0;34m=\u001b[0m \u001b[0;34m[\u001b[0m\u001b[0;34m(\u001b[0m\u001b[0mhour\u001b[0m\u001b[0;34m,\u001b[0m \u001b[0mband\u001b[0m\u001b[0;34m)\u001b[0m \u001b[0;32mfor\u001b[0m \u001b[0mhour\u001b[0m \u001b[0;32min\u001b[0m \u001b[0msearch\u001b[0m \u001b[0;32mfor\u001b[0m \u001b[0mband\u001b[0m \u001b[0;32min\u001b[0m \u001b[0mrange\u001b[0m\u001b[0;34m(\u001b[0m\u001b[0;36m8\u001b[0m\u001b[0;34m,\u001b[0m\u001b[0;36m17\u001b[0m\u001b[0;34m)\u001b[0m\u001b[0;34m]\u001b[0m\u001b[0;34m\u001b[0m\u001b[0;34m\u001b[0m\u001b[0m\n\u001b[0;32m----> 8\u001b[0;31m     \u001b[0mpool\u001b[0m\u001b[0;34m.\u001b[0m\u001b[0mmap\u001b[0m\u001b[0;34m(\u001b[0m\u001b[0mexecute\u001b[0m\u001b[0;34m,\u001b[0m \u001b[0margs\u001b[0m\u001b[0;34m,\u001b[0m \u001b[0mchunksize\u001b[0m \u001b[0;34m=\u001b[0m \u001b[0mchunksize\u001b[0m\u001b[0;34m)\u001b[0m\u001b[0;34m\u001b[0m\u001b[0;34m\u001b[0m\u001b[0m\n\u001b[0m",
      "\u001b[0;32m~/.conda/envs/adomako/lib/python3.9/multiprocessing/pool.py\u001b[0m in \u001b[0;36mmap\u001b[0;34m(self, func, iterable, chunksize)\u001b[0m\n\u001b[1;32m    362\u001b[0m         \u001b[0;32min\u001b[0m \u001b[0ma\u001b[0m \u001b[0mlist\u001b[0m \u001b[0mthat\u001b[0m \u001b[0;32mis\u001b[0m \u001b[0mreturned\u001b[0m\u001b[0;34m.\u001b[0m\u001b[0;34m\u001b[0m\u001b[0;34m\u001b[0m\u001b[0m\n\u001b[1;32m    363\u001b[0m         '''\n\u001b[0;32m--> 364\u001b[0;31m         \u001b[0;32mreturn\u001b[0m \u001b[0mself\u001b[0m\u001b[0;34m.\u001b[0m\u001b[0m_map_async\u001b[0m\u001b[0;34m(\u001b[0m\u001b[0mfunc\u001b[0m\u001b[0;34m,\u001b[0m \u001b[0miterable\u001b[0m\u001b[0;34m,\u001b[0m \u001b[0mmapstar\u001b[0m\u001b[0;34m,\u001b[0m \u001b[0mchunksize\u001b[0m\u001b[0;34m)\u001b[0m\u001b[0;34m.\u001b[0m\u001b[0mget\u001b[0m\u001b[0;34m(\u001b[0m\u001b[0;34m)\u001b[0m\u001b[0;34m\u001b[0m\u001b[0;34m\u001b[0m\u001b[0m\n\u001b[0m\u001b[1;32m    365\u001b[0m \u001b[0;34m\u001b[0m\u001b[0m\n\u001b[1;32m    366\u001b[0m     \u001b[0;32mdef\u001b[0m \u001b[0mstarmap\u001b[0m\u001b[0;34m(\u001b[0m\u001b[0mself\u001b[0m\u001b[0;34m,\u001b[0m \u001b[0mfunc\u001b[0m\u001b[0;34m,\u001b[0m \u001b[0miterable\u001b[0m\u001b[0;34m,\u001b[0m \u001b[0mchunksize\u001b[0m\u001b[0;34m=\u001b[0m\u001b[0;32mNone\u001b[0m\u001b[0;34m)\u001b[0m\u001b[0;34m:\u001b[0m\u001b[0;34m\u001b[0m\u001b[0;34m\u001b[0m\u001b[0m\n",
      "\u001b[0;32m~/.conda/envs/adomako/lib/python3.9/multiprocessing/pool.py\u001b[0m in \u001b[0;36mget\u001b[0;34m(self, timeout)\u001b[0m\n\u001b[1;32m    763\u001b[0m \u001b[0;34m\u001b[0m\u001b[0m\n\u001b[1;32m    764\u001b[0m     \u001b[0;32mdef\u001b[0m \u001b[0mget\u001b[0m\u001b[0;34m(\u001b[0m\u001b[0mself\u001b[0m\u001b[0;34m,\u001b[0m \u001b[0mtimeout\u001b[0m\u001b[0;34m=\u001b[0m\u001b[0;32mNone\u001b[0m\u001b[0;34m)\u001b[0m\u001b[0;34m:\u001b[0m\u001b[0;34m\u001b[0m\u001b[0;34m\u001b[0m\u001b[0m\n\u001b[0;32m--> 765\u001b[0;31m         \u001b[0mself\u001b[0m\u001b[0;34m.\u001b[0m\u001b[0mwait\u001b[0m\u001b[0;34m(\u001b[0m\u001b[0mtimeout\u001b[0m\u001b[0;34m)\u001b[0m\u001b[0;34m\u001b[0m\u001b[0;34m\u001b[0m\u001b[0m\n\u001b[0m\u001b[1;32m    766\u001b[0m         \u001b[0;32mif\u001b[0m \u001b[0;32mnot\u001b[0m \u001b[0mself\u001b[0m\u001b[0;34m.\u001b[0m\u001b[0mready\u001b[0m\u001b[0;34m(\u001b[0m\u001b[0;34m)\u001b[0m\u001b[0;34m:\u001b[0m\u001b[0;34m\u001b[0m\u001b[0;34m\u001b[0m\u001b[0m\n\u001b[1;32m    767\u001b[0m             \u001b[0;32mraise\u001b[0m \u001b[0mTimeoutError\u001b[0m\u001b[0;34m\u001b[0m\u001b[0;34m\u001b[0m\u001b[0m\n",
      "\u001b[0;32m~/.conda/envs/adomako/lib/python3.9/multiprocessing/pool.py\u001b[0m in \u001b[0;36mwait\u001b[0;34m(self, timeout)\u001b[0m\n\u001b[1;32m    760\u001b[0m \u001b[0;34m\u001b[0m\u001b[0m\n\u001b[1;32m    761\u001b[0m     \u001b[0;32mdef\u001b[0m \u001b[0mwait\u001b[0m\u001b[0;34m(\u001b[0m\u001b[0mself\u001b[0m\u001b[0;34m,\u001b[0m \u001b[0mtimeout\u001b[0m\u001b[0;34m=\u001b[0m\u001b[0;32mNone\u001b[0m\u001b[0;34m)\u001b[0m\u001b[0;34m:\u001b[0m\u001b[0;34m\u001b[0m\u001b[0;34m\u001b[0m\u001b[0m\n\u001b[0;32m--> 762\u001b[0;31m         \u001b[0mself\u001b[0m\u001b[0;34m.\u001b[0m\u001b[0m_event\u001b[0m\u001b[0;34m.\u001b[0m\u001b[0mwait\u001b[0m\u001b[0;34m(\u001b[0m\u001b[0mtimeout\u001b[0m\u001b[0;34m)\u001b[0m\u001b[0;34m\u001b[0m\u001b[0;34m\u001b[0m\u001b[0m\n\u001b[0m\u001b[1;32m    763\u001b[0m \u001b[0;34m\u001b[0m\u001b[0m\n\u001b[1;32m    764\u001b[0m     \u001b[0;32mdef\u001b[0m \u001b[0mget\u001b[0m\u001b[0;34m(\u001b[0m\u001b[0mself\u001b[0m\u001b[0;34m,\u001b[0m \u001b[0mtimeout\u001b[0m\u001b[0;34m=\u001b[0m\u001b[0;32mNone\u001b[0m\u001b[0;34m)\u001b[0m\u001b[0;34m:\u001b[0m\u001b[0;34m\u001b[0m\u001b[0;34m\u001b[0m\u001b[0m\n",
      "\u001b[0;32m~/.conda/envs/adomako/lib/python3.9/threading.py\u001b[0m in \u001b[0;36mwait\u001b[0;34m(self, timeout)\u001b[0m\n\u001b[1;32m    572\u001b[0m             \u001b[0msignaled\u001b[0m \u001b[0;34m=\u001b[0m \u001b[0mself\u001b[0m\u001b[0;34m.\u001b[0m\u001b[0m_flag\u001b[0m\u001b[0;34m\u001b[0m\u001b[0;34m\u001b[0m\u001b[0m\n\u001b[1;32m    573\u001b[0m             \u001b[0;32mif\u001b[0m \u001b[0;32mnot\u001b[0m \u001b[0msignaled\u001b[0m\u001b[0;34m:\u001b[0m\u001b[0;34m\u001b[0m\u001b[0;34m\u001b[0m\u001b[0m\n\u001b[0;32m--> 574\u001b[0;31m                 \u001b[0msignaled\u001b[0m \u001b[0;34m=\u001b[0m \u001b[0mself\u001b[0m\u001b[0;34m.\u001b[0m\u001b[0m_cond\u001b[0m\u001b[0;34m.\u001b[0m\u001b[0mwait\u001b[0m\u001b[0;34m(\u001b[0m\u001b[0mtimeout\u001b[0m\u001b[0;34m)\u001b[0m\u001b[0;34m\u001b[0m\u001b[0;34m\u001b[0m\u001b[0m\n\u001b[0m\u001b[1;32m    575\u001b[0m             \u001b[0;32mreturn\u001b[0m \u001b[0msignaled\u001b[0m\u001b[0;34m\u001b[0m\u001b[0;34m\u001b[0m\u001b[0m\n\u001b[1;32m    576\u001b[0m \u001b[0;34m\u001b[0m\u001b[0m\n",
      "\u001b[0;32m~/.conda/envs/adomako/lib/python3.9/threading.py\u001b[0m in \u001b[0;36mwait\u001b[0;34m(self, timeout)\u001b[0m\n\u001b[1;32m    310\u001b[0m         \u001b[0;32mtry\u001b[0m\u001b[0;34m:\u001b[0m    \u001b[0;31m# restore state no matter what (e.g., KeyboardInterrupt)\u001b[0m\u001b[0;34m\u001b[0m\u001b[0;34m\u001b[0m\u001b[0m\n\u001b[1;32m    311\u001b[0m             \u001b[0;32mif\u001b[0m \u001b[0mtimeout\u001b[0m \u001b[0;32mis\u001b[0m \u001b[0;32mNone\u001b[0m\u001b[0;34m:\u001b[0m\u001b[0;34m\u001b[0m\u001b[0;34m\u001b[0m\u001b[0m\n\u001b[0;32m--> 312\u001b[0;31m                 \u001b[0mwaiter\u001b[0m\u001b[0;34m.\u001b[0m\u001b[0macquire\u001b[0m\u001b[0;34m(\u001b[0m\u001b[0;34m)\u001b[0m\u001b[0;34m\u001b[0m\u001b[0;34m\u001b[0m\u001b[0m\n\u001b[0m\u001b[1;32m    313\u001b[0m                 \u001b[0mgotit\u001b[0m \u001b[0;34m=\u001b[0m \u001b[0;32mTrue\u001b[0m\u001b[0;34m\u001b[0m\u001b[0;34m\u001b[0m\u001b[0m\n\u001b[1;32m    314\u001b[0m             \u001b[0;32melse\u001b[0m\u001b[0;34m:\u001b[0m\u001b[0;34m\u001b[0m\u001b[0;34m\u001b[0m\u001b[0m\n",
      "\u001b[0;31mKeyboardInterrupt\u001b[0m: "
     ]
    }
   ],
   "source": [
    "agents = 1\n",
    "chunksize = 3\n",
    "\n",
    "# use number of bands as agents\n",
    "with Pool(processes = agents) as pool:\n",
    "    #pool.map(execute, search, chunksize=None)\n",
    "    args = [(hour, band) for hour in search for band in range(8,17)]\n",
    "    pool.map(execute, args, chunksize = chunksize)"
   ]
  },
  {
   "cell_type": "code",
   "execution_count": null,
   "id": "affected-scanning",
   "metadata": {},
   "outputs": [],
   "source": []
  }
 ],
 "metadata": {
  "kernelspec": {
   "display_name": "Python 3",
   "language": "python",
   "name": "python3"
  },
  "language_info": {
   "codemirror_mode": {
    "name": "ipython",
    "version": 3
   },
   "file_extension": ".py",
   "mimetype": "text/x-python",
   "name": "python",
   "nbconvert_exporter": "python",
   "pygments_lexer": "ipython3",
   "version": "3.9.1"
  }
 },
 "nbformat": 4,
 "nbformat_minor": 5
}
