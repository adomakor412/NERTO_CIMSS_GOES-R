{
 "cells": [
  {
   "cell_type": "markdown",
   "id": "running-harvest",
   "metadata": {},
   "source": [
    "# Generate Full Disk images of GOES-R NetCDF files and upload them to GitLab database."
   ]
  },
  {
   "cell_type": "code",
   "execution_count": null,
   "id": "thrown-destiny",
   "metadata": {},
   "outputs": [],
   "source": [
    "import sys\n",
    "from netCDF4 import Dataset\n",
    "from datetime import datetime, timedelta\n",
    "import numpy as np\n",
    "import matplotlib.pyplot as plt\n",
    "from mpl_toolkits.basemap import Basemap\n",
    "\n"
   ]
  }
 ],
 "metadata": {
  "kernelspec": {
   "display_name": "Python 3",
   "language": "python",
   "name": "python3"
  },
  "language_info": {
   "codemirror_mode": {
    "name": "ipython",
    "version": 3
   },
   "file_extension": ".py",
   "mimetype": "text/x-python",
   "name": "python",
   "nbconvert_exporter": "python",
   "pygments_lexer": "ipython3",
   "version": "3.9.1"
  }
 },
 "nbformat": 4,
 "nbformat_minor": 5
}
