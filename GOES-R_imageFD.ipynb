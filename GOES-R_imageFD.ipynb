{
 "cells": [
  {
   "cell_type": "markdown",
   "id": "running-harvest",
   "metadata": {},
   "source": [
    "# Generate Full Disk images of GOES-R NetCDF files and upload them to GitLab database."
   ]
  },
  {
   "cell_type": "markdown",
   "id": "organizational-replication",
   "metadata": {},
   "source": [
    "https://gitlab.com/adomakor412/goes-r_fd_image"
   ]
  },
  {
   "cell_type": "code",
   "execution_count": 12,
   "id": "thrown-destiny",
   "metadata": {},
   "outputs": [],
   "source": [
    "import sys\n",
    "from netCDF4 import Dataset\n",
    "from datetime import datetime, timedelta\n",
    "import numpy as np\n",
    "import matplotlib.pyplot as plt\n",
    "%matplotlib inline\n",
    "from mpl_toolkits.basemap import Basemap\n",
    "from pathlib import Path\n",
    "\n",
    "import warnings\n",
    "#warnings.filterwarnings('ignore')\n",
    "\n",
    "import logging\n",
    "logger = logging.getLogger()"
   ]
  },
  {
   "cell_type": "markdown",
   "id": "chief-intent",
   "metadata": {},
   "source": [
    "## Paths"
   ]
  },
  {
   "cell_type": "code",
   "execution_count": 13,
   "id": "whole-extent",
   "metadata": {},
   "outputs": [],
   "source": [
    "storage = Path('../goes-r_fd_image/')"
   ]
  },
  {
   "cell_type": "code",
   "execution_count": null,
   "id": "exempt-favorite",
   "metadata": {},
   "outputs": [],
   "source": []
  }
 ],
 "metadata": {
  "kernelspec": {
   "display_name": "Python 3",
   "language": "python",
   "name": "python3"
  },
  "language_info": {
   "codemirror_mode": {
    "name": "ipython",
    "version": 3
   },
   "file_extension": ".py",
   "mimetype": "text/x-python",
   "name": "python",
   "nbconvert_exporter": "python",
   "pygments_lexer": "ipython3",
   "version": "3.9.1"
  }
 },
 "nbformat": 4,
 "nbformat_minor": 5
}
