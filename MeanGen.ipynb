{
 "cells": [
  {
   "cell_type": "code",
   "execution_count": 1,
   "metadata": {},
   "outputs": [
    {
     "name": "stderr",
     "output_type": "stream",
     "text": [
      "/scratch/adomakor412/conda/envs/MyEnv/lib/python3.6/site-packages/dask/config.py:131: YAMLLoadWarning: calling yaml.load() without Loader=... is deprecated, as the default Loader is unsafe. Please read https://msg.pyyaml.org/load for full details.\n",
      "  data = yaml.load(f.read()) or {}\n"
     ]
    }
   ],
   "source": [
    "import numpy as np\n",
    "import itertools\n",
    "import pandas as pd\n",
    "npPath = '/sharedData2/scratch/fall_npy/'\n",
    "ncPath = '/sharedData/scratch/'\n",
    "acmPath = '/sharedData/scratch/all_npy3/'\n",
    "DATAPATH = '/goesdata'\n",
    "import re\n",
    "import os\n",
    "from os import path as op\n",
    "import matplotlib.pyplot as plt\n",
    "\n",
    "import xarray as xr\n",
    "import netCDF4\n",
    "from pathlib import Path\n",
    "\n",
    "#refactor to create folders using subprocess library\n",
    "#from subprocess import\n",
    "\n",
    "import matplotlib.dates as mdates\n",
    "%matplotlib inline\n",
    "\n",
    "from datetime import datetime"
   ]
  },
  {
   "cell_type": "code",
   "execution_count": null,
   "metadata": {},
   "outputs": [],
   "source": [
    "for i in [8]:\n",
    "    d16=pd.DataFrame()\n",
    "    d17=pd.DataFrame()\n",
    "    for j in range(11):\n",
    "        band = str(i).zfill(2)\n",
    "        date = 98 + j\n",
    "        day = str(date).zfill(3)\n",
    "        \n",
    "        times17, mean17 = getTmean('17', npPath, band, day)\n",
    "        times16, mean16 = getTmean('16', npPath, band, day)\n",
    "        \n",
    "        dframe17=pd.DataFrame(index=times17,data=np.array(mean17),columns=['Mean_temp (K)'])\n",
    "        dframe16=pd.DataFrame(index=times16,data=np.array(mean16),columns=['Mean_temp (K)'])\n",
    "        \n",
    "        d17=d17.append(dframe17)\n",
    "        d16=d16.append(dframe16)\n",
    "        \n",
    "d16.index.name='Time (DDDHHmm)'\n",
    "d17.index.name='Time (DDDHHmm)'\n",
    "\n",
    "d16.to_csv(\"G16series.csv\")\n",
    "d17.to_csv(\"G17series.csv\")"
   ]
  }
 ],
 "metadata": {
  "kernelspec": {
   "display_name": "Python 3",
   "language": "python",
   "name": "python3"
  },
  "language_info": {
   "codemirror_mode": {
    "name": "ipython",
    "version": 3
   },
   "file_extension": ".py",
   "mimetype": "text/x-python",
   "name": "python",
   "nbconvert_exporter": "python",
   "pygments_lexer": "ipython3",
   "version": "3.6.12"
  }
 },
 "nbformat": 4,
 "nbformat_minor": 4
}
