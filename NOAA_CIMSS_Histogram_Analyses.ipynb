{
 "cells": [
  {
   "cell_type": "markdown",
   "metadata": {},
   "source": [
    "# Histogram of GOES-16, GOES-17, Empirical CDF, and AUC for Full disk samples in region of interest."
   ]
  },
  {
   "cell_type": "markdown",
   "metadata": {},
   "source": [
    "## Import libraries"
   ]
  },
  {
   "cell_type": "code",
   "execution_count": 1,
   "metadata": {},
   "outputs": [
    {
     "name": "stderr",
     "output_type": "stream",
     "text": [
      "/scratch/adomakor412/conda/envs/MyEnv/lib/python3.6/site-packages/dask/config.py:131: YAMLLoadWarning: calling yaml.load() without Loader=... is deprecated, as the default Loader is unsafe. Please read https://msg.pyyaml.org/load for full details.\n",
      "  data = yaml.load(f.read()) or {}\n"
     ]
    }
   ],
   "source": [
    "import numpy as np\n",
    "import scipy.stats as st\n",
    "import itertools\n",
    "import pandas as pd\n",
    "# npPath = '/sharedData/scratch/all_npy3/'\n",
    "# ncPath = '/sharedData/scratch/april_data/'\n",
    "# acmPath = '/sharedData/scratch/all_npy3/'\n",
    "# DATAPATH = '/sharedData/scratch/'\n",
    "import re\n",
    "import os\n",
    "from os import path as op\n",
    "import matplotlib.pyplot as plt\n",
    "%matplotlib inline\n",
    "import xarray as xr\n",
    "import netCDF4\n",
    "from pathlib import Path\n",
    "\n",
    "import matplotlib.dates as mdates\n",
    "from datetime import datetime"
   ]
  },
  {
   "cell_type": "code",
   "execution_count": 2,
   "metadata": {},
   "outputs": [],
   "source": [
    "import logging\n",
    "logger = logging.getLogger()"
   ]
  },
  {
   "cell_type": "markdown",
   "metadata": {},
   "source": [
    "## Define paths"
   ]
  },
  {
   "cell_type": "code",
   "execution_count": 5,
   "metadata": {},
   "outputs": [],
   "source": [
    "storage = Path('../storage/')"
   ]
  },
  {
   "cell_type": "markdown",
   "metadata": {},
   "source": [
    "## Functions for unfiltered cloud mask"
   ]
  },
  {
   "cell_type": "code",
   "execution_count": 7,
   "metadata": {},
   "outputs": [],
   "source": [
    "def Rad2BT(rad, planck_fk1, planck_fk2, planck_bc1, planck_bc2):\n",
    "    \"\"\"Radiances to Brightness Temprature (using black body equation)\"\"\"\n",
    "    invRad = np.array(rad)**(-1)\n",
    "    arg = (invRad*planck_fk1) + 1.0\n",
    "    T = (- planck_bc1+(planck_fk2 * (np.log(arg)**(-1))) )*(1/planck_bc2) \n",
    "    return T"
   ]
  },
  {
   "cell_type": "code",
   "execution_count": 9,
   "metadata": {},
   "outputs": [],
   "source": [
    "def createUnfilteredPlotArray(ncFile,npFile,npPath):#Filtered Histrogram for cloud clear sky mask\n",
    "    Tmean= []\n",
    "    times = []\n",
    "    for ncf, npf in zip(ncFile, npFile):\n",
    "        imageBox = np.load(op.join(npPath,npf))\n",
    "        myFile = xr.open_dataset(op.join(ncPath,ncf))\n",
    "        planck_fk1 = float(myFile['planck_fk1'].data)\n",
    "        planck_fk2 = float(myFile['planck_fk2'].data) \n",
    "        planck_bc1 = float(myFile['planck_bc1'].data)                       \n",
    "        planck_bc2 = float(myFile['planck_bc2'].data)     \n",
    "        T = Rad2BT(imageBox.mean(), planck_fk1, planck_fk2, planck_bc1, planck_bc2)\n",
    "        tString = ncf[31:38]\n",
    "        times.append(tString)\n",
    "        Tmean.append(T)\n",
    "    return times, Tmean"
   ]
  },
  {
   "cell_type": "markdown",
   "metadata": {},
   "source": [
    "# Execution"
   ]
  },
  {
   "cell_type": "code",
   "execution_count": 24,
   "metadata": {},
   "outputs": [],
   "source": [
    "template = '''\\\n",
    "    http://home.chpc.utah.edu/~u0553130/Brian_Blaylock/cgi-bin/\\\n",
    "    goes16_download.cgi?source=aws&satellite=\\\n",
    "    noaa-goes{SS}&domain=F&product=ABI-L1b-Rad&date=20{yy}-{mm}-{dd}&hour={hr}           \n",
    "    '''"
   ]
  },
  {
   "cell_type": "code",
   "execution_count": 25,
   "metadata": {},
   "outputs": [
    {
     "data": {
      "text/plain": [
       "\"    http://home.chpc.utah.edu/~u0553130/Brian_Blaylock/cgi-bin/    goes16_download.cgi?source=aws&satellite=    noaa-goes{SS}&domain=F&product=ABI-L1b-Rad&date=20{yy}-{mm}-{dd}&hour={hr}'            \\n    \""
      ]
     },
     "execution_count": 25,
     "metadata": {},
     "output_type": "execute_result"
    }
   ],
   "source": [
    "template"
   ]
  },
  {
   "cell_type": "code",
   "execution_count": 44,
   "metadata": {},
   "outputs": [],
   "source": [
    "template = 'http://home.chpc.utah.edu/~u0553130/Brian_Blaylock/cgi-bin/'   \\\n",
    "    + 'goes16_download.cgi?source=aws&satellite=' \\\n",
    "    + 'noaa-goes{SS}&domain=F&product=ABI-L1b-Rad&date=20{yy}-{mm}-{dd}&hour={hr}'"
   ]
  },
  {
   "cell_type": "code",
   "execution_count": null,
   "metadata": {},
   "outputs": [],
   "source": [
    "for i in [8]:\n",
    "    for j in range(11):\n",
    "        band = str(i).zfill(2)\n",
    "        date = 98 + j\n",
    "        day = str(date).zfill(3)\n",
    "        \n",
    "        times17, mean17 = getTmean('17', npPath, band, day)\n",
    "        times16, mean16 = getTmean('16', npPath, band, day)\n",
    "        \n",
    "        ptimes17 = [datetime.strptime(f\"2019{t}\", \"%Y%j%H%M\") for t in times17]\n",
    "        ptimes16 = [datetime.strptime(f\"2019{t}\", \"%Y%j%H%M\") for t in times16]\n",
    "        fig, ax1 = plt.subplots(figsize=(15,5))#constrained_layout=False\n",
    "        _ = ax1.plot_date(ptimes17, mean17 , label=\"GOES-17\", color='tab:red', marker='+', markersize = 16)\n",
    "        _ = ax1.plot_date(ptimes16, mean16 , label='GOES-16', color='tab:blue', marker='+', markersize = 16, zorder=-1)\n",
    "        _ = ax1.set_ylim(220,260)\n",
    "        _ = ax1.tick_params('both', labelsize=18)\n",
    "        _ = ax1.legend()\n",
    "        _ = ax1.set_title(f'Mean Temperatures (K) for a 401 x 1001 Portion\\n of Band 08 on 04-{str(8+j)}-2019', fontweight ='bold', fontsize = 22)\n",
    "        _ = ax1.set_ylabel('Temperature (K)',fontsize = 16)\n",
    "        _ = ax1.set_xlabel('time (hours)',fontsize = 16)\n",
    "        _ = ax1.xaxis.set_major_formatter(mdates.DateFormatter('%H:%M'))\n",
    "        \n",
    "        \n",
    "        _ = plt.savefig('..'+ op.join(DATAPATH,f\"Mean_temp_unfiltered/04-{str(8+j).zfill(2)}-2019\"))\n"
   ]
  }
 ],
 "metadata": {
  "kernelspec": {
   "display_name": "Python 3",
   "language": "python",
   "name": "python3"
  },
  "language_info": {
   "codemirror_mode": {
    "name": "ipython",
    "version": 3
   },
   "file_extension": ".py",
   "mimetype": "text/x-python",
   "name": "python",
   "nbconvert_exporter": "python",
   "pygments_lexer": "ipython3",
   "version": "3.6.12"
  }
 },
 "nbformat": 4,
 "nbformat_minor": 4
}
